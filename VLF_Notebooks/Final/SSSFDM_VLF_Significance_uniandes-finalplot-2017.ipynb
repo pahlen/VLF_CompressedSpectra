{
 "cells": [
  {
   "cell_type": "markdown",
   "metadata": {},
   "source": [
    "# SSSFDM_VLF_uniandes final plot only"
   ]
  },
  {
   "cell_type": "markdown",
   "metadata": {},
   "source": [
    "changed: uses only data from C. Avila.\n",
    "\n",
    "Program to obtain contours in luminosity required to obtain significance=3 for draft VLF\n",
    "\n",
    "Eff in abs.value\n"
   ]
  },
  {
   "cell_type": "markdown",
   "metadata": {},
   "source": [
    "## Initialization"
   ]
  },
  {
   "cell_type": "code",
   "execution_count": 1,
   "metadata": {},
   "outputs": [
    {
     "name": "stdout",
     "output_type": "stream",
     "text": [
      "Populating the interactive namespace from numpy and matplotlib\n"
     ]
    }
   ],
   "source": [
    "%pylab inline"
   ]
  },
  {
   "cell_type": "markdown",
   "metadata": {},
   "source": [
    "The number of background events after the cuts is given by `NB` for a luminosity of $\\mathcal{L}=100\\ \\text{fb}^{-1}$.\n",
    "\n",
    "(check numbers!)"
   ]
  },
  {
   "cell_type": "code",
   "execution_count": 2,
   "metadata": {},
   "outputs": [],
   "source": [
    "import numpy as np\n",
    "import scipy.optimize as optimization\n",
    "import scipy.ndimage\n",
    "import pandas as pd\n",
    "from curvefit import *\n",
    "import sys\n",
    "from matplotlib.colors import LogNorm\n",
    "import matplotlib.pyplot as plt\n",
    "\n",
    "# change vars:\n",
    "# Eff now NS/NS_orig, with NS_orig=100k.\n",
    "\n",
    "##Zvv=500. ## whats this?\n",
    "###NB=Zvv/0.7 #Background to 30fb^-1 (why? whats 0.7)\n",
    "#set NB further below\n",
    "\n",
    "########## warning: need bkg for 30/fb.\n",
    "# NB30=NB100*0.3\n",
    "\n",
    "def func(x, a, b, c, d, e):\n",
    "    return a + b*x + c*x*x + d*x*x*x + e*x*x*x*x\n",
    "\n",
    "def Z(S,B):\n",
    "    return S/np.sqrt(S+B)\n",
    "\n",
    "def significance(XS,Eff,Lumi,NB):\n",
    "    '''XS: Cross section in pb \n",
    "       Eff: Cut efficiency in % ---> now Eff, not Eff/100\n",
    "       Lumi in pb^-1\n",
    "       TB: SM Backound at 30000 pb^-1\n",
    "       NB: SM bkg for 100/fb=100000/pb\n",
    "    '''\n",
    "    LumiNorm=1.0E5\n",
    "    Evts=Lumi*(XS.transpose())*(Eff)\n",
    "    return Z(Evts,NB*Lumi/LumiNorm) #\n",
    "\n",
    "def g(x,excl=5):\n",
    "    return excl*np.ones_like(x)"
   ]
  },
  {
   "cell_type": "code",
   "execution_count": 3,
   "metadata": {},
   "outputs": [],
   "source": [
    "# By Jake VanderPlas\n",
    "# License: BSD-style\n",
    "\n",
    "import matplotlib.pyplot as plt\n",
    "import numpy as np\n",
    "\n",
    "def discrete_cmap(N, base_cmap=None):\n",
    "    \"\"\"Create an N-bin discrete colormap from the specified input map\"\"\"\n",
    "\n",
    "    # Note that if base_cmap is a string or None, you can simply do\n",
    "    #    return plt.cm.get_cmap(base_cmap, N)\n",
    "    # The following works for string, None, or a colormap instance:\n",
    "\n",
    "    base = plt.cm.get_cmap(base_cmap)\n",
    "    color_list = base(np.linspace(0, 1, N))\n",
    "    cmap_name = base.name + str(N)\n",
    "    return base.from_list(cmap_name, color_list, N)\n",
    "\n"
   ]
  },
  {
   "cell_type": "markdown",
   "metadata": {},
   "source": [
    "# Full dataframe"
   ]
  },
  {
   "cell_type": "markdown",
   "metadata": {},
   "source": [
    "Intersection of two graphs in Python: https://stackoverflow.com/a/28766902/2268280. See also: https://stackoverflow.com/a/31541338/2268280"
   ]
  },
  {
   "cell_type": "markdown",
   "metadata": {},
   "source": [
    "## Data..."
   ]
  },
  {
   "cell_type": "markdown",
   "metadata": {},
   "source": [
    "Needs to replace parameters MF,MS with MH0,Lal to reuse old code. \n",
    "\n",
    "(old comments)\n",
    "grid of $m==mF=21$ values of $m_F$, and $l==lFS=15$ values of deltaM.  \n",
    "\n",
    "therefore XS=\n",
    "  ( [XS(MF1,DeltaM1), XS(MF1,DeltaM2)],\n",
    "    [XS(MF2,DeltaM1), XS(MF2,DeltaM2)] ) =\n",
    "  [ [A, A], \n",
    "    [B, B]]\n",
    "\n",
    "Orig:\n",
    "* We require a $l\\times m$ matrix of cross sections for each $l$ and $m$ values denoted as: `XS`\n",
    "\n",
    "change: XST is $m\\times l$\n",
    "\n",
    "* We require a $m\\times l$ matrix of cut efficiences (in %) for each $m$ and $l$ values denoted as : `Eff`"
   ]
  },
  {
   "cell_type": "code",
   "execution_count": 4,
   "metadata": {},
   "outputs": [],
   "source": [
    "### input data:\n",
    "# prod cross sections in fb.\n",
    "XSfb50=5135.7\n",
    "XSfb60=1816.8\n",
    "XSfb70=1032.2\n",
    "XSfb80=668.4\n",
    "XSfb90=461.6\n",
    "\n",
    "XSfb100=331.5\n",
    "XSfb105=284.8\n",
    "XSfb110=246.5\n",
    "XSfb115=214.2\n",
    "XSfb120=187.3\n",
    "XSfb125=164.6\n",
    "XSfb130=145.3\n",
    "XSfb135=128.9\n",
    "XSfb140=114.5\n",
    "XSfb145=102.2\n",
    "XSfb150=91.5\n",
    "\n",
    "XSfb155=82.3\n",
    "XSfb160=74.2\n",
    "XSfb165=67.0\n",
    "XSfb170=60.7\n",
    "XSfb175=55.1\n",
    "XSfb180=50.1\n",
    "XSfb185=45.8\n",
    "XSfb190=41.8\n",
    "XSfb195=38.3\n",
    "XSfb200=35.1\n"
   ]
  },
  {
   "cell_type": "code",
   "execution_count": 5,
   "metadata": {},
   "outputs": [],
   "source": [
    "### input data:\n",
    "# prod cross sections in pb.\n",
    "XS100=XSfb100/1E3\n",
    "XS105=XSfb105/1E3\n",
    "XS110=XSfb110/1E3\n",
    "XS115=XSfb115/1E3\n",
    "XS120=XSfb120/1E3\n",
    "XS125=XSfb125/1E3\n",
    "XS130=XSfb130/1E3\n",
    "XS135=XSfb135/1E3\n",
    "XS140=XSfb140/1E3\n",
    "XS145=XSfb145/1E3\n",
    "XS150=XSfb150/1E3\n",
    "\n",
    "XS155=XSfb155/1E3\n",
    "XS160=XSfb160/1E3\n",
    "XS165=XSfb165/1E3\n",
    "XS170=XSfb170/1E3\n",
    "XS175=XSfb175/1E3\n",
    "XS180=XSfb180/1E3\n",
    "XS185=XSfb185/1E3\n",
    "XS190=XSfb190/1E3\n",
    "XS195=XSfb195/1E3\n",
    "XS200=XSfb200/1E3\n",
    "\n",
    "deltaM15=np.array([1,2,3,4,5,6,7,8,9,10,11,12,13,14,15]) #range in deltam"
   ]
  },
  {
   "cell_type": "code",
   "execution_count": 6,
   "metadata": {},
   "outputs": [],
   "source": [
    "MFmax=20015   #range in x and y.\n",
    "if (MFmax == 20015):\n",
    "    MFrange=np.array([100,105,110,115,120,125,130,135,140,145,150,155,160,165,170,175,180,185,190,195,200]) \n",
    "    XSFt=np.array([XS100,XS105,XS110,XS115,XS120,XS125,XS130,XS135,XS140,XS145,XS150,XS155,XS160,XS165,XS170,XS175,XS180,XS185,XS190,XS195,XS200])\n",
    "    XS=np.array([XSFt,XSFt,XSFt,XSFt,XSFt,XSFt,XSFt,XSFt,XSFt,XSFt,XSFt,XSFt,XSFt,XSFt,XSFt])\n",
    "else:\n",
    "    print (\"warning! didnt find required value !!!!!!!!!!!!!!!!!!!!!!!!!!!!!!!!!!11\")\n",
    "    \n",
    "XST=XS.transpose()\n"
   ]
  },
  {
   "cell_type": "code",
   "execution_count": 7,
   "metadata": {},
   "outputs": [],
   "source": [
    "scen=1\n",
    "\n",
    "if scen==1:   #100-200 1-15 range\n",
    "    nsignallist=[ [  1022 ,  1168 ,  1257 ,  1552 ,  1753 ,  2053 ,  2298 ,  2834 ,  3231 ,  3816 ,  4413 ,  4892 ,  5118 ,  4572 ,  1646  ], [  992 ,  1190 ,  1400 ,  1530 ,  1915 ,  2167 ,  2452 ,  2997 ,  3394 ,  3987 ,  4596 ,  4980 ,  5404 ,  4723 ,  1591  ], [  1094 ,  1243 ,  1387 ,  1653 ,  1942 ,  2277 ,  2529 ,  2983 ,  3457 ,  4221 ,  4735 ,  5213 ,  5276 ,  4712 ,  1525  ], [  1185 ,  1272 ,  1551 ,  1695 ,  2098 ,  2343 ,  2697 ,  3184 ,  3633 ,  4314 ,  4906 ,  5414 ,  5490 ,  4950 ,  1567  ], [  1124 ,  1401 ,  1547 ,  1751 ,  2102 ,  2464 ,  2782 ,  3265 ,  3724 ,  4258 ,  5041 ,  5638 ,  5842 ,  4842 ,  1570  ], [  1274 ,  1374 ,  1571 ,  1749 ,  2116 ,  2476 ,  2796 ,  3391 ,  3874 ,  4437 ,  5145 ,  5660 ,  5853 ,  4939 ,  1504  ], [  1244 ,  1505 ,  1648 ,  1856 ,  2172 ,  2623 ,  2923 ,  3504 ,  4036 ,  4637 ,  5220 ,  5851 ,  6059 ,  5066 ,  1478  ], [  1302 ,  1424 ,  1640 ,  1917 ,  2211 ,  2625 ,  3036 ,  3523 ,  4003 ,  4586 ,  5334 ,  5976 ,  6008 ,  4886 ,  1434  ], [  1299 ,  1510 ,  1781 ,  1926 ,  2285 ,  2663 ,  3023 ,  3627 ,  4140 ,  4776 ,  5458 ,  6067 ,  6290 ,  5178 ,  1417  ], [  1342 ,  1495 ,  1769 ,  2007 ,  2316 ,  2712 ,  3083 ,  3715 ,  4270 ,  4956 ,  5645 ,  6152 ,  6167 ,  5152 ,  1370  ], [  1389 ,  1566 ,  1819 ,  2045 ,  2409 ,  2711 ,  3264 ,  3707 ,  4289 ,  4985 ,  5633 ,  6105 ,  6414 ,  5060 ,  1349  ], [  1305 ,  1555 ,  1792 ,  2067 ,  2367 ,  2866 ,  3402 ,  3849 ,  4447 ,  4977 ,  5719 ,  6283 ,  6465 ,  5211 ,  1360  ], [  1427 ,  1663 ,  1870 ,  2135 ,  2467 ,  2931 ,  3306 ,  3967 ,  4447 ,  5095 ,  5841 ,  6391 ,  6576 ,  5142 ,  1266  ], [  1514 ,  1579 ,  1889 ,  2138 ,  2485 ,  2878 ,  3353 ,  3941 ,  4508 ,  5151 ,  5841 ,  6593 ,  6663 ,  5236 ,  1215  ], [  1528 ,  1590 ,  1922 ,  2277 ,  2605 ,  2867 ,  3419 ,  4023 ,  4638 ,  5228 ,  6082 ,  6646 ,  6652 ,  5278 ,  1248  ], [  1507 ,  1700 ,  1945 ,  2275 ,  2594 ,  3138 ,  3412 ,  4025 ,  4496 ,  5142 ,  5876 ,  6809 ,  6786 ,  5154 ,  1168  ], [  1508 ,  1722 ,  1991 ,  2277 ,  2668 ,  3020 ,  3545 ,  3953 ,  4646 ,  5339 ,  6016 ,  6603 ,  6813 ,  5258 ,  1184  ], [  1505 ,  1831 ,  2001 ,  2371 ,  2604 ,  3015 ,  3457 ,  4083 ,  4741 ,  5557 ,  6041 ,  6661 ,  6840 ,  5129 ,  1087  ], [  1586 ,  1756 ,  2030 ,  2391 ,  2736 ,  3176 ,  3680 ,  4150 ,  4786 ,  5297 ,  6056 ,  6808 ,  6997 ,  5333 ,  1149  ], [  1587 ,  1823 ,  2025 ,  2426 ,  2734 ,  3114 ,  3558 ,  4275 ,  4855 ,  5525 ,  6200 ,  6813 ,  6991 ,  5413 ,  1140  ], [  1567 ,  1873 ,  2067 ,  2394 ,  2755 ,  3208 ,  3617 ,  4252 ,  4793 ,  5621 ,  6269 ,  6900 ,  7071 ,  5210 ,  1109  ]  ]\n",
    "    Signiflist=[ [ 0.448612, 0.512678, 0.551729, 0.681154, 0.769325, 0.900905, 1.00835, 1.24334, 1.41735, 1.67369, 1.9352, 2.14496, 2.2439, 2.00484, 0.722389 ], [ 0.374119, 0.44877, 0.527937, 0.576941, 0.722049, 0.817014, 0.924401, 1.12971, 1.27923, 1.50252, 1.73176, 1.87627, 2.0358, 1.77956, 0.599934 ], [ 0.357106, 0.40573, 0.452719, 0.539511, 0.633796, 0.743074, 0.825266, 0.973321, 1.12787, 1.3769, 1.54439, 1.70013, 1.72065, 1.5369, 0.497748 ], [ 0.33613, 0.360802, 0.439917, 0.480747, 0.595003, 0.664456, 0.764797, 0.902815, 1.03004, 1.22296, 1.39063, 1.53448, 1.556, 1.40309, 0.444453 ], [ 0.278798, 0.347489, 0.383693, 0.434275, 0.521298, 0.611038, 0.689862, 0.809569, 0.92331, 1.05561, 1.24957, 1.39742, 1.44793, 1.20028, 0.389396 ], [ 0.277706, 0.299499, 0.342431, 0.38122, 0.461189, 0.539624, 0.609337, 0.738943, 0.844136, 0.966734, 1.12088, 1.23298, 1.27499, 1.07603, 0.32783 ], [ 0.239377, 0.289591, 0.317101, 0.357114, 0.417899, 0.504643, 0.562339, 0.674065, 0.776353, 0.891891, 1.00395, 1.12522, 1.16519, 0.974353, 0.284396 ], [ 0.222262, 0.243085, 0.279951, 0.327225, 0.377397, 0.448042, 0.518169, 0.601254, 0.683137, 0.782578, 0.910143, 1.01961, 1.02507, 0.833743, 0.244792 ], [ 0.196981, 0.228972, 0.270058, 0.292041, 0.346464, 0.403763, 0.458329, 0.549871, 0.627612, 0.723981, 0.827307, 0.919561, 0.95334, 0.784888, 0.214872 ], [ 0.181642, 0.202348, 0.239428, 0.271635, 0.313448, 0.367029, 0.417225, 0.502725, 0.577801, 0.670587, 0.763767, 0.832326, 0.834354, 0.697095, 0.185432 ], [ 0.168322, 0.189768, 0.220423, 0.247804, 0.291904, 0.32849, 0.395479, 0.449138, 0.519629, 0.603918, 0.682386, 0.739537, 0.776949, 0.613001, 0.163475 ], [ 0.142244, 0.169491, 0.19532, 0.22529, 0.257982, 0.312357, 0.37076, 0.419462, 0.484611, 0.542347, 0.62317, 0.684598, 0.70442, 0.567836, 0.148239 ], [ 0.140234, 0.163424, 0.183763, 0.209801, 0.24242, 0.288007, 0.324847, 0.38978, 0.436929, 0.500576, 0.573841, 0.627853, 0.646019, 0.505192, 0.124413 ], [ 0.134347, 0.140114, 0.167619, 0.189711, 0.220497, 0.255363, 0.297501, 0.34966, 0.399953, 0.456984, 0.518178, 0.584865, 0.591072, 0.464522, 0.107817 ], [ 0.122841, 0.127825, 0.154512, 0.183048, 0.209412, 0.230471, 0.274837, 0.323379, 0.372802, 0.420213, 0.488833, 0.534147, 0.534629, 0.42423, 0.100332 ], [ 0.109976, 0.12406, 0.141937, 0.166016, 0.189292, 0.228984, 0.248974, 0.293696, 0.328057, 0.375182, 0.428722, 0.496773, 0.495095, 0.376057, 0.0852385 ], [ 0.100064, 0.114262, 0.13211, 0.151086, 0.177027, 0.200379, 0.235208, 0.262274, 0.308244, 0.354211, 0.399114, 0.438045, 0.451972, 0.348838, 0.0785656 ], [ 0.0912938, 0.111068, 0.121379, 0.143821, 0.157953, 0.18288, 0.209686, 0.247651, 0.287553, 0.337035, 0.366382, 0.403975, 0.414828, 0.311082, 0.0659389 ], [ 0.0878051, 0.0972162, 0.112384, 0.132368, 0.151466, 0.175821, 0.203719, 0.229733, 0.264934, 0.293216, 0.335221, 0.376837, 0.387295, 0.295208, 0.0636127 ], [ 0.0805041, 0.092475, 0.102721, 0.123061, 0.138683, 0.157957, 0.180476, 0.216839, 0.246254, 0.280231, 0.31446, 0.345544, 0.35457, 0.274551, 0.0578299 ], [ 0.0728485, 0.0870734, 0.0960916, 0.111292, 0.128073, 0.14913, 0.168141, 0.197656, 0.2228, 0.261283, 0.291398, 0.320723, 0.328669, 0.242181, 0.0515572 ]  ]\n",
    "    deltaMrange=deltaM15 #default\n",
    "\n",
    "else:\n",
    "    print (\"warning! didnt find scenario! !!!!!!!!!!!!!!!!!!!!!!!!!!!!!!!\")\n",
    "\n",
    "Signif=fliplr(np.array(Signiflist))\n",
    "SignifT=Signif.transpose()\n",
    "nsignal=fliplr(np.array(nsignallist))\n",
    "\n",
    "lumiscale=5.477\n",
    "Z=lumiscale*SignifT\n",
    "\n",
    "Nsevents=1.E5\n",
    "Eff=nsignal/Nsevents\n",
    "\n",
    "#test:\n",
    "LumiS3=900/(SignifT**2)\n"
   ]
  },
  {
   "cell_type": "code",
   "execution_count": 8,
   "metadata": {},
   "outputs": [],
   "source": [
    "LaL=deltaMrange\n",
    "MH0=MFrange\n",
    "#checks\n",
    "#shape(Signif),shape(MH0),shape(LaL)"
   ]
  },
  {
   "cell_type": "code",
   "execution_count": 9,
   "metadata": {},
   "outputs": [
    {
     "name": "stderr",
     "output_type": "stream",
     "text": [
      "/usr/local/lib/python3.5/dist-packages/matplotlib/contour.py:1004: UserWarning: The following kwargs were not used by contour: 'labels'\n",
      "  s)\n"
     ]
    },
    {
     "data": {
      "text/plain": [
       "<matplotlib.legend.Legend at 0x7fc616e94400>"
      ]
     },
     "execution_count": 9,
     "metadata": {},
     "output_type": "execute_result"
    },
    {
     "data": {
      "image/png": "[encoded data removed]",
      "text/plain": [
       "<Figure size 432x288 with 1 Axes>"
      ]
     },
     "metadata": {
      "needs_background": "light"
     },
     "output_type": "display_data"
    }
   ],
   "source": [
    "### now just the final plot\n",
    "\n",
    "dh=pd.DataFrame()\n",
    "for i in range(LaL.shape[0]):\n",
    "    for j in range(MH0.shape[0]):\n",
    "        dh=dh.append({'LaL':LaL[i],'MH0':MH0[j],'XS':XS[i,j],'Significance':Signif.transpose()[i,j]},ignore_index=True)\n",
    "\n",
    "xlist=np.linspace(MH0.min(),MH0.max(),MH0.shape[0])\n",
    "ylist=np.linspace(LaL.min(),LaL.max(),LaL.shape[0])\n",
    "X,Y = np.meshgrid(xlist,ylist)\n",
    "lumiscale=5.477\n",
    "Z=lumiscale*SignifT\n",
    "\n",
    "#----------------------------------\n",
    "degXYZ=3\n",
    "X3=scipy.ndimage.zoom(X, degXYZ)\n",
    "Y3=scipy.ndimage.zoom(Y, degXYZ)\n",
    "Z3=scipy.ndimage.zoom(Z, degXYZ)\n",
    "\n",
    "levels = [3, 5.196152422706632, 9.4868329805051381]\n",
    "\n",
    "cp=plt.contour(X3,Y3,Z3,levels,linestyles=(':','--','-'),labels=('$3000 \\\\rm fb^{-1}$','$1000$','$300$'))\n",
    "\n",
    "N=8\n",
    "#cmap=discrete_cmap(N, 'jet')\n",
    "cmap=discrete_cmap(N, 'rainbow')\n",
    "\n",
    "plt.clim(0., 2*N ) \n",
    "\n",
    "plt.xlabel(\"$m_\\Psi [\\\\rm GeV]$\",size=15)\n",
    "plt.ylabel(\"$\\Delta m[\\\\rm GeV]$\",size=15)\n",
    "plt.tick_params(direction='in',length=5,top=True,right=True,labelsize=15,pad=7)\n",
    "plt.ylim(0,14.0)\n",
    "plt.xlim(100,180.0)\n",
    "plt.tight_layout()\n",
    "labels = ['$3000\\\\, \\\\rm fb^{-1}$','$1000\\\\, \\\\rm fb^{-1}$','$300\\\\, \\\\rm fb^{-1}$']\n",
    "for i in range(len(labels)):\n",
    "    cp.collections[i].set_label(labels[i])\n",
    "\n",
    "#plt.legend(loc='best')\n",
    "plt.legend(loc='upper right')\n",
    "#plt.savefig(\"significance110.204020.pdf\")\n",
    "#plt.title(\"$MET>110, p_T<20, MT<40, ljP_{T}>20$, at L=3/ab \")\n"
   ]
  },
  {
   "cell_type": "code",
   "execution_count": 10,
   "metadata": {},
   "outputs": [],
   "source": [
    "#np.savetxt('nsignallist.txt',nsignallist)\n",
    "#np.savetxt('nsignal.txt',nsignal)"
   ]
  },
  {
   "cell_type": "code",
   "execution_count": 11,
   "metadata": {},
   "outputs": [],
   "source": [
    "#np.savetxt('signiflist.txt',Signiflist)\n",
    "#np.savetxt('signif.txt',Signif)"
   ]
  },
  {
   "cell_type": "code",
   "execution_count": null,
   "metadata": {
    "collapsed": true
   },
   "outputs": [],
   "source": []
  },
  {
   "cell_type": "code",
   "execution_count": null,
   "metadata": {
    "collapsed": true
   },
   "outputs": [],
   "source": []
  }
 ],
 "metadata": {
  "kernelspec": {
   "display_name": "Python 2",
   "language": "python",
   "name": "python2"
  },
  "language_info": {
   "codemirror_mode": {
    "name": "ipython",
    "version": 3
   },
   "file_extension": ".py",
   "mimetype": "text/x-python",
   "name": "python",
   "nbconvert_exporter": "python",
   "pygments_lexer": "ipython3",
   "version": "3.5.3"
  },
  "latex_envs": {
   "LaTeX_envs_menu_present": true,
   "bibliofile": "biblio.bib",
   "cite_by": "apalike",
   "current_citInitial": 1,
   "eqLabelWithNumbers": true,
   "eqNumInitial": 1,
   "labels_anchors": false,
   "latex_user_defs": false,
   "report_style_numbering": false,
   "user_envs_cfg": false
  },
  "toc": {
   "colors": {
    "hover_highlight": "#DAA520",
    "running_highlight": "#FF0000",
    "selected_highlight": "#FFD700"
   },
   "moveMenuLeft": true,
   "nav_menu": {
    "height": "139px",
    "width": "252px"
   },
   "navigate_menu": true,
   "number_sections": true,
   "sideBar": true,
   "threshold": 4,
   "toc_cell": false,
   "toc_section_display": "block",
   "toc_window_display": false
  }
 },
 "nbformat": 4,
 "nbformat_minor": 1
}
